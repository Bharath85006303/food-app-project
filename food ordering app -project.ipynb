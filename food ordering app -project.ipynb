{
 "cells": [
  {
   "cell_type": "code",
   "execution_count": 14,
   "id": "a03ea3ab",
   "metadata": {},
   "outputs": [
    {
     "name": "stdout",
     "output_type": "stream",
     "text": [
      "enter name of foodvada\n",
      "enter quantity of food4\n",
      "enter price of food44\n",
      "enter discount of food44\n",
      "enter stock of food3\n",
      "{1: {'name': 'vada', 'quantity': 4, 'price': 44, 'discount': 44, 'stock': 3}}\n",
      "item added sucessfullly\n",
      "enter name of foodgfd\n",
      "enter quantity of food33\n",
      "enter price of food33\n",
      "enter discount of food33\n",
      "enter stock of food33\n",
      "{1: {'name': 'vada', 'quantity': 4, 'price': 44, 'discount': 44, 'stock': 3}, 2: {'name': 'gfd', 'quantity': 33, 'price': 33, 'discount': 33, 'stock': 33}}\n",
      "item added sucessfullly\n",
      "enter name of foodsjfkawfj\n",
      "enter quantity of food3\n",
      "enter price of food3\n",
      "enter discount of food3\n",
      "enter stock of food3\n",
      "{1: {'name': 'vada', 'quantity': 4, 'price': 44, 'discount': 44, 'stock': 3}, 2: {'name': 'gfd', 'quantity': 33, 'price': 33, 'discount': 33, 'stock': 33}, 3: {'name': 'sjfkawfj', 'quantity': 3, 'price': 3, 'discount': 3, 'stock': 3}}\n",
      "item added sucessfullly\n",
      "enter which item to remove1\n",
      "{2: {'name': 'gfd', 'quantity': 33, 'price': 33, 'discount': 33, 'stock': 33}, 3: {'name': 'sjfkawfj', 'quantity': 3, 'price': 3, 'discount': 3, 'stock': 3}}\n"
     ]
    }
   ],
   "source": [
    "class restaruant:\n",
    "    def __init__(self):\n",
    "        self.food={}\n",
    "        self.food_id=len(self.food)\n",
    "    def addfooditems(self):\n",
    "        self.name=input(\"enter name of food\")\n",
    "        self.quantity=int(input(\"enter quantity of food\"))\n",
    "        self.price=int(input(\"enter price of food\"))\n",
    "        self.discount=int(input(\"enter discount of food\"))\n",
    "        self.stock=int(input(\"enter stock of food\"))\n",
    "        self.items={\"name\":self.name,\"quantity\":self.quantity,\"price\":self.price,\"discount\":self.discount,\"stock\":self.stock}\n",
    "        self.food_id=len(self.food)+1\n",
    "        self.food[self.food_id]=self.items\n",
    "        print(self.food)\n",
    "        print(\"item added sucessfullly\")\n",
    "    def remove_fooditem(self):\n",
    "        del self.food[int(input(\"enter which item to remove\"))]\n",
    "        print(self.food)\n",
    "    def edit_items(self):\n",
    "        fd_id=int(input(\"enter the foodid you want to remove\"))\n",
    "        for i in self.food[ fd_id]:\n",
    "             self.food[ fd_id][i]=input(\"enter the updated items\")\n",
    "        print(\"updated new items\")        \n",
    "            \n",
    "        \n",
    "        \n",
    "        \n",
    "x=restaruant() \n",
    "x.addfooditems()\n",
    "x.addfooditems()\n",
    "x.addfooditems()\n",
    "x.remove_fooditem()"
   ]
  },
  {
   "cell_type": "markdown",
   "id": "ca3c7301",
   "metadata": {},
   "source": [
    "#### "
   ]
  },
  {
   "cell_type": "code",
   "execution_count": null,
   "id": "63ab98ae",
   "metadata": {},
   "outputs": [],
   "source": []
  }
 ],
 "metadata": {
  "kernelspec": {
   "display_name": "Python 3 (ipykernel)",
   "language": "python",
   "name": "python3"
  },
  "language_info": {
   "codemirror_mode": {
    "name": "ipython",
    "version": 3
   },
   "file_extension": ".py",
   "mimetype": "text/x-python",
   "name": "python",
   "nbconvert_exporter": "python",
   "pygments_lexer": "ipython3",
   "version": "3.9.12"
  }
 },
 "nbformat": 4,
 "nbformat_minor": 5
}
